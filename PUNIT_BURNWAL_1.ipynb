{
  "nbformat": 4,
  "nbformat_minor": 0,
  "metadata": {
    "colab": {
      "name": "PUNIT BURNWAL_1.ipynb",
      "provenance": []
    },
    "kernelspec": {
      "name": "python3",
      "display_name": "Python 3"
    },
    "language_info": {
      "name": "python"
    }
  },
  "cells": [
    {
      "cell_type": "code",
      "metadata": {
        "id": "FUn0z_xy8zWz"
      },
      "source": [
        "import requests"
      ],
      "execution_count": null,
      "outputs": []
    },
    {
      "cell_type": "code",
      "metadata": {
        "id": "3jfH54_L86Dp"
      },
      "source": [
        "from datetime import datetime"
      ],
      "execution_count": null,
      "outputs": []
    },
    {
      "cell_type": "code",
      "metadata": {
        "colab": {
          "base_uri": "https://localhost:8080/"
        },
        "id": "3gwO1Fxi86Pq",
        "outputId": "cb5a3824-a6f4-4b84-8b58-957b47e772cb"
      },
      "source": [
        "api_key = '49f5864bfb546b9baa27183b44daf3cc'\n",
        "location = input(\"Enter the city name: \")"
      ],
      "execution_count": null,
      "outputs": [
        {
          "output_type": "stream",
          "text": [
            "Enter the city name: ASANSOL\n"
          ],
          "name": "stdout"
        }
      ]
    },
    {
      "cell_type": "code",
      "metadata": {
        "id": "1d6GSfMv86WZ"
      },
      "source": [
        "complete_api_link = \"https://api.openweathermap.org/data/2.5/weather?q=\"+location+\"&appid=\"+api_key\n",
        "api_link = requests.get(complete_api_link)\n",
        "api_data = api_link.json()"
      ],
      "execution_count": null,
      "outputs": []
    },
    {
      "cell_type": "code",
      "metadata": {
        "id": "SZy-dvVY86ee"
      },
      "source": [
        "temp_city = ((api_data['main']['temp']) - 273.15)"
      ],
      "execution_count": null,
      "outputs": []
    },
    {
      "cell_type": "code",
      "metadata": {
        "id": "eYENeRA786nV"
      },
      "source": [
        "weather_descrip = api_data['weather'][0]['description']"
      ],
      "execution_count": null,
      "outputs": []
    },
    {
      "cell_type": "code",
      "metadata": {
        "id": "0mp4QzP99Kr5"
      },
      "source": [
        "humdt = api_data['main']['humidity']"
      ],
      "execution_count": null,
      "outputs": []
    },
    {
      "cell_type": "code",
      "metadata": {
        "id": "tDgxualh9K2D"
      },
      "source": [
        "wind_spd = api_data['wind']['speed']"
      ],
      "execution_count": null,
      "outputs": []
    },
    {
      "cell_type": "code",
      "metadata": {
        "id": "HNBeaXmb9LBH"
      },
      "source": [
        "date_time = datetime.now().strftime(\"%d %b %Y | %I:%M:%S %p\")"
      ],
      "execution_count": null,
      "outputs": []
    },
    {
      "cell_type": "code",
      "metadata": {
        "id": "FSE7Bd--MbgS"
      },
      "source": [
        "with open(\"datafile.txt\", \"a\") as f:\n",
        "    f.write(\"\\nWeather Stats for - {}  || {}\".format(location.upper(), date_time))\n",
        "    f.write(\"\\nTemp: {}\".format(str(temp_city)))\n",
        "    f.write(\"\\nWeather Descrip: {} \".format(str(weather_descrip)))\n",
        "    f.write(\"\\nHumidity: {} \".format(str(humdt)))\n",
        "    f.write(str(\"\\nWind Speed: {} \".format(wind_spd)))\n",
        "    f.close()"
      ],
      "execution_count": 27,
      "outputs": []
    },
    {
      "cell_type": "code",
      "metadata": {
        "colab": {
          "base_uri": "https://localhost:8080/"
        },
        "id": "ma7NREyn-GBu",
        "outputId": "95f95b69-cce7-4074-ff67-aa1198fedfac"
      },
      "source": [
        "print (\"-------------------------------------------------------------\")\n",
        "print (\"Weather Stats for - {}  || {}\".format(location.upper(), date_time))\n",
        "print (\"-------------------------------------------------------------\")"
      ],
      "execution_count": 29,
      "outputs": [
        {
          "output_type": "stream",
          "text": [
            "-------------------------------------------------------------\n",
            "Weather Stats for - ASANSOL  || 23 Jun 2021 | 08:24:11 AM\n",
            "-------------------------------------------------------------\n"
          ],
          "name": "stdout"
        }
      ]
    },
    {
      "cell_type": "code",
      "metadata": {
        "colab": {
          "base_uri": "https://localhost:8080/"
        },
        "id": "2E6ltFgB9h6c",
        "outputId": "baa6c97f-de92-4548-a74a-54e6c35a6b14"
      },
      "source": [
        "print (\"Current temperature is: {:.2f} deg C\".format(temp_city))"
      ],
      "execution_count": 30,
      "outputs": [
        {
          "output_type": "stream",
          "text": [
            "Current temperature is: 34.82 deg C\n"
          ],
          "name": "stdout"
        }
      ]
    },
    {
      "cell_type": "code",
      "metadata": {
        "colab": {
          "base_uri": "https://localhost:8080/"
        },
        "id": "aZ-ASTq29h7b",
        "outputId": "c7ab7aa0-125b-4555-9bca-0cd1fff21145"
      },
      "source": [
        "print (\"Current weather is   :\",weather_descrip)"
      ],
      "execution_count": 31,
      "outputs": [
        {
          "output_type": "stream",
          "text": [
            "Current weather is   : overcast clouds\n"
          ],
          "name": "stdout"
        }
      ]
    },
    {
      "cell_type": "code",
      "metadata": {
        "colab": {
          "base_uri": "https://localhost:8080/"
        },
        "id": "g-PFjm6y9h8_",
        "outputId": "12057e86-000d-45f6-ea62-90b0686a284e"
      },
      "source": [
        "print (\"Current Humidity is    :\",humdt, '%')"
      ],
      "execution_count": 32,
      "outputs": [
        {
          "output_type": "stream",
          "text": [
            "Current Humidity is    : 50 %\n"
          ],
          "name": "stdout"
        }
      ]
    },
    {
      "cell_type": "code",
      "metadata": {
        "colab": {
          "base_uri": "https://localhost:8080/"
        },
        "id": "CM3l1mDZ9tF0",
        "outputId": "793d5e93-4bc8-4464-cfed-cd5181734927"
      },
      "source": [
        "print (\"Current wind speed    :\",wind_spd ,'kmph')"
      ],
      "execution_count": 33,
      "outputs": [
        {
          "output_type": "stream",
          "text": [
            "Current wind speed    : 3.97 kmph\n"
          ],
          "name": "stdout"
        }
      ]
    },
    {
      "cell_type": "code",
      "metadata": {
        "colab": {
          "base_uri": "https://localhost:8080/"
        },
        "id": "TBud7C3iPaZt",
        "outputId": "79105ee0-80ac-4985-8228-bcfcfbdfe4e7"
      },
      "source": [
        "print (\"-----------------------------------------------------------\")\n",
        "print (\"-------------Opening 'Datafile.txt'----------\")\n",
        "with open(\"datafile.txt\", \"r\" ) as h:\n",
        "    print(h.read())\n",
        "    h.close()"
      ],
      "execution_count": 37,
      "outputs": [
        {
          "output_type": "stream",
          "text": [
            "-----------------------------------------------------------\n",
            "-------------Opening 'Datafile.txt'----------\n",
            "\n",
            "Weather Stats for - ASANSOL  || 23 Jun 2021 | 08:24:11 AM\n",
            "Temp: 34.82000000000005\n",
            "Weather Stats for - ASANSOL  || 23 Jun 2021 | 08:24:11 AM\n",
            "Temp: 34.82000000000005\n",
            "Weather Stats for - ASANSOL  || 23 Jun 2021 | 08:24:11 AM\n",
            "Temp: 34.82000000000005\n",
            "Weather Stats for - ASANSOL  || 23 Jun 2021 | 08:24:11 AM\n",
            "Temp: 34.82000000000005\n",
            "Weather Stats for - ASANSOL  || 23 Jun 2021 | 08:24:11 AM\n",
            "Temp: 34.82000000000005\n",
            "Weather Stats for - ASANSOL  || 23 Jun 2021 | 08:24:11 AM\n",
            "Temp: 34.82000000000005\n",
            "Weather Stats for - ASANSOL  || 23 Jun 2021 | 08:24:11 AM\n",
            "Temp: 34.82000000000005\n",
            "Weather Descrip: overcast clouds \n",
            "Weather Stats for - ASANSOL  || 23 Jun 2021 | 08:24:11 AM\n",
            "Temp: 34.82000000000005\n",
            "Weather Descrip: overcast clouds \n",
            "Humidity: 50 \n",
            "Wind Speed: 3.97 \n"
          ],
          "name": "stdout"
        }
      ]
    }
  ]
}